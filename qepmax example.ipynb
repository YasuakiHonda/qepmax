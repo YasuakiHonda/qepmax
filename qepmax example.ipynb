{
 "cells": [
  {
   "cell_type": "code",
   "execution_count": 1,
   "metadata": {},
   "outputs": [
    {
     "name": "stdout",
     "output_type": "stream",
     "text": [
      "To load \"drakma\":\n",
      "  Load 1 ASDF system:\n",
      "    drakma\n",
      "\n",
      "; Loading \"drakma\"\n",
      "...\n",
      "To load \"maxima-asdf\":\n",
      "  Load 1 ASDF system:\n",
      "    maxima-asdf\n"
     ]
    },
    {
     "data": {
      "text/plain": [
       "(:MAXIMA-ASDF)"
      ]
     },
     "execution_count": 1,
     "metadata": {},
     "output_type": "execute_result"
    },
    {
     "name": "stdout",
     "output_type": "stream",
     "text": [
      "\n",
      "; Loading \"maxima-asdf\"\n",
      "\n"
     ]
    }
   ],
   "source": [
    ":lisp (progn (ql:quickload :drakma)(ql:quickload :maxima-asdf))"
   ]
  },
  {
   "cell_type": "code",
   "execution_count": 2,
   "metadata": {},
   "outputs": [
    {
     "data": {
      "text/latex": [
       "\\[\\tag{${\\it \\%o}_{2}$}\\left[ \\mbox{ /home/honda/quicklisp/dists/quicklisp/archives/qepmax-precomp-qepcad.gz } , \\mbox{ /home/honda/quicklisp/local-projects/YasuakiHonda-qepmax-30d51ba/ } \\right] \\]"
      ],
      "text/plain": [
       "(%o2) \n",
       "[/home/honda/quicklisp/dists/quicklisp/archives/qepmax-precomp-qepcad.gz, \n",
       "/home/honda/quicklisp/local-projects/YasuakiHonda-qepmax-30d51ba/]"
      ],
      "text/x-maxima": [
       "[\"/home/honda/quicklisp/dists/quicklisp/archives/qepmax-precomp-qepcad.gz\",\n",
       " \"/home/honda/quicklisp/local-projects/YasuakiHonda-qepmax-30d51ba/\"]"
      ]
     },
     "execution_count": 2,
     "metadata": {},
     "output_type": "execute_result"
    }
   ],
   "source": [
    "install_github(\"YasuakiHonda\",\"qepmax\",\"precomp-qepcad\");"
   ]
  },
  {
   "cell_type": "code",
   "execution_count": 3,
   "metadata": {},
   "outputs": [
    {
     "name": "stdout",
     "output_type": "stream",
     "text": [
      "\n",
      "REDEFINITION-WITH-DEFUN: \n",
      "  redefining MAXIMA::$NONNEGINTEGERP in DEFUN\n",
      "\n",
      "REDEFINITION-WITH-DEFUN: \n",
      "  redefining MAXIMA::$POLYNOMIALP in DEFUN\n",
      "\n",
      "REDEFINITION-WITH-DEFUN: \n",
      "  redefining MAXIMA::POLYNOMIALP in DEFUN\n",
      "\n",
      "REDEFINITION-WITH-DEFMACRO: \n",
      "  redefining MAXIMA::OPAPPLY in DEFMACRO\n",
      "\n",
      "REDEFINITION-WITH-DEFMACRO: \n",
      "  redefining MAXIMA::OPCONS in DEFMACRO\n",
      "\n",
      "REDEFINITION-WITH-DEFUN: \n",
      "  redefining MAXIMA::MY-TAKE in DEFUN\n",
      "\n",
      "REDEFINITION-WITH-DEFUN: \n",
      "  redefining MAXIMA::$OPSUBST in DEFUN\n",
      "\n",
      "REDEFINITION-WITH-DEFUN: \n",
      "  redefining MAXIMA::VERBIFY-STRING in DEFUN\n",
      "\n",
      "REDEFINITION-WITH-DEFUN: \n",
      "  redefining MAXIMA::SAFE-VERBIFY in DEFUN\n",
      "\n",
      "REDEFINITION-WITH-DEFUN: \n",
      "  redefining MAXIMA::OP-SUBST in DEFUN\n",
      "\n",
      "REDEFINITION-WITH-DEFUN: \n",
      "  redefining MAXIMA::$OPSUBSTIF in DEFUN\n",
      "\n",
      "REDEFINITION-WITH-DEFUN: \n",
      "  redefining MAXIMA::OP-SUBST-IF in DEFUN\n",
      "\n",
      "REDEFINITION-WITH-DEFUN: \n",
      "  redefining MAXIMA::$GATHERARGS in DEFUN\n",
      "\n",
      "REDEFINITION-WITH-DEFUN: \n",
      "  redefining MAXIMA::GATHERARGS in DEFUN\n",
      "\n",
      "REDEFINITION-WITH-DEFUN: \n",
      "  redefining MAXIMA::$GATHEROPS in DEFUN\n",
      "\n",
      "REDEFINITION-WITH-DEFUN: \n",
      "  redefining MAXIMA::GATHEROPS in DEFUN\n"
     ]
    },
    {
     "data": {
      "text/latex": [
       "\\[\\tag{${\\it \\%o}_{3}$}\\#<LOAD-SOURCE-OP >\\]"
      ],
      "text/plain": [
       "(%o3)                         #<LOAD-SOURCE-OP >"
      ],
      "text/x-maxima": [
       "\\#\\<LOAD\\-SOURCE\\-OP\\ \\>"
      ]
     },
     "execution_count": 3,
     "metadata": {},
     "output_type": "execute_result"
    },
    {
     "name": "stdout",
     "output_type": "stream",
     "text": [
      "\n",
      "REDEFINITION-WITH-DEFUN: \n",
      "  redefining MAXIMA::MSZ-MTIMES in DEFUN\n"
     ]
    }
   ],
   "source": [
    "asdf_load_source(\"qepmax\");"
   ]
  },
  {
   "cell_type": "code",
   "execution_count": 4,
   "metadata": {},
   "outputs": [
    {
     "data": {
      "text/latex": [
       "\\[\\tag{${\\it \\%o}_{4}$}3\\,y+x=1\\]"
      ],
      "text/plain": [
       "(%o4)                             3 y + x = 1"
      ],
      "text/x-maxima": [
       "3*y+x = 1"
      ]
     },
     "execution_count": 4,
     "metadata": {},
     "output_type": "execute_result"
    }
   ],
   "source": [
    "x+3*y=1;"
   ]
  },
  {
   "cell_type": "code",
   "execution_count": 5,
   "metadata": {},
   "outputs": [
    {
     "data": {
      "text/latex": [
       "\\[\\tag{${\\it \\%o}_{5}$}\\mbox{ /home/honda/quicklisp/local-projects/YasuakiHonda-qepmax-30d51ba/qepcad-linux }\\]"
      ],
      "text/plain": [
       "(%o5) \n",
       "  /home/honda/quicklisp/local-projects/YasuakiHonda-qepmax-30d51ba/qepcad-linux"
      ],
      "text/x-maxima": [
       "\"/home/honda/quicklisp/local-projects/YasuakiHonda-qepmax-30d51ba/qepcad-linux\""
      ]
     },
     "execution_count": 5,
     "metadata": {},
     "output_type": "execute_result"
    }
   ],
   "source": [
    "qepcad_installed_dir;"
   ]
  },
  {
   "cell_type": "code",
   "execution_count": 6,
   "metadata": {},
   "outputs": [
    {
     "data": {
      "text/latex": [
       "\\[\\tag{${\\it \\%o}_{6}$}c\\neq 0\\]"
      ],
      "text/plain": [
       "(%o6)                                c # 0"
      ],
      "text/x-maxima": [
       "c # 0"
      ]
     },
     "execution_count": 6,
     "metadata": {},
     "output_type": "execute_result"
    }
   ],
   "source": [
    "qe([[A,x],[E,y]],x+c*y=1);"
   ]
  },
  {
   "cell_type": "code",
   "execution_count": 7,
   "metadata": {},
   "outputs": [
    {
     "data": {
      "text/latex": [
       "\\[\\tag{${\\it \\%o}_{7}$}\\left(a\\neq 0\\right) \\land \\left(4\\,a\\,c-b^2<0\\right)\\]"
      ],
      "text/plain": [
       "                                                2\n",
       "(%o7)                    (a # 0) %and (4 a c - b  < 0)"
      ],
      "text/x-maxima": [
       "(a # 0) %and (4*a*c-b^2 < 0)"
      ]
     },
     "execution_count": 7,
     "metadata": {},
     "output_type": "execute_result"
    }
   ],
   "source": [
    "qe([[X2,x]],a*x^2+b*x+c=0);"
   ]
  },
  {
   "cell_type": "code",
   "execution_count": 8,
   "metadata": {},
   "outputs": [
    {
     "data": {
      "text/latex": [
       "\\[\\tag{${\\it \\%o}_{8}$}\\left(a=0\\right) \\land \\left(4\\,a\\,c-b^2<0\\right) \\lor \\left(\\left(a>0\\right) \\land \\left(4\\,a\\,c-b^2=0\\right)\\right) \\lor \\left(\\left(a<0\\right) \\land \\left(4\\,a\\,c-b^2=0\\right)\\right)\\]"
      ],
      "text/plain": [
       "                              2                                   2\n",
       "(%o8) ((a = 0) %and (4 a c - b  < 0)) %or ((a > 0) %and (4 a c - b  = 0))\n",
       "                                                                        2\n",
       "                                            %or ((a < 0) %and (4 a c - b  = 0))"
      ],
      "text/x-maxima": [
       "((a = 0) %and (4*a*c-b^2 < 0)) %or ((a > 0) %and (4*a*c-b^2 = 0))\n",
       "                               %or ((a < 0) %and (4*a*c-b^2 = 0))"
      ]
     },
     "execution_count": 8,
     "metadata": {},
     "output_type": "execute_result"
    }
   ],
   "source": [
    "qe([[X1,x]],a*x^2+b*x+c=0);"
   ]
  },
  {
   "cell_type": "code",
   "execution_count": 9,
   "metadata": {},
   "outputs": [
    {
     "data": {
      "text/latex": [
       "\\[\\tag{${\\it \\%o}_{9}$}-b^2+a^2+1\\geq 0\\]"
      ],
      "text/plain": [
       "                                 2     2\n",
       "(%o9)                        (- b ) + a  + 1 >= 0"
      ],
      "text/x-maxima": [
       "(-b^2)+a^2+1 >= 0"
      ]
     },
     "execution_count": 9,
     "metadata": {},
     "output_type": "execute_result"
    }
   ],
   "source": [
    "qe([[E,x],[E,y]], (x^2+y^2=1) %and (y=a*x+b) );"
   ]
  },
  {
   "cell_type": "code",
   "execution_count": 10,
   "metadata": {},
   "outputs": [
    {
     "data": {
      "text/latex": [
       "\\[\\tag{${\\it \\%o}_{10}$}\\left[ \\left[ x=-\\frac{\\sqrt{6}+6}{10} , y=-\\frac{3\\,\\sqrt{6}-2}{10} \\right]  , \\left[ x=\\frac{\\sqrt{6}-6}{10} , y=\\frac{3\\,\\sqrt{6}+2}{10} \\right]  \\right] \\]"
      ],
      "text/plain": [
       "               sqrt(6) + 6        3 sqrt(6) - 2\n",
       "(%o10) [[x = - -----------, y = - -------------], \n",
       "                   10                  10\n",
       "                                               sqrt(6) - 6      3 sqrt(6) + 2\n",
       "                                          [x = -----------, y = -------------]]\n",
       "                                                   10                10"
      ],
      "text/x-maxima": [
       "[[x = -(sqrt(6)+6)/10,y = -(3*sqrt(6)-2)/10],\n",
       " [x = (sqrt(6)-6)/10,y = (3*sqrt(6)+2)/10]]"
      ]
     },
     "execution_count": 10,
     "metadata": {},
     "output_type": "execute_result"
    }
   ],
   "source": [
    "solve([x^2+y^2=1,y=3*x+2],[x,y]);"
   ]
  },
  {
   "cell_type": "code",
   "execution_count": 11,
   "metadata": {},
   "outputs": [
    {
     "data": {
      "text/latex": [
       "\\[\\tag{${\\it \\%o}_{11}$}-b^2+a^2+1=0\\]"
      ],
      "text/plain": [
       "                                  2     2\n",
       "(%o11)                        (- b ) + a  + 1 = 0"
      ],
      "text/x-maxima": [
       "(-b^2)+a^2+1 = 0"
      ]
     },
     "execution_count": 11,
     "metadata": {},
     "output_type": "execute_result"
    }
   ],
   "source": [
    "qe([[X1,x],[X1,y]], (x^2+y^2=1) %and (y=a*x+b) );"
   ]
  },
  {
   "cell_type": "code",
   "execution_count": 12,
   "metadata": {},
   "outputs": [
    {
     "data": {
      "text/latex": [
       "\\[\\tag{${\\it \\%o}_{12}$}\\left[ b=-\\sqrt{5} , b=\\sqrt{5} \\right] \\]"
      ],
      "text/plain": [
       "(%o12)                   [b = - sqrt(5), b = sqrt(5)]"
      ],
      "text/x-maxima": [
       "[b = -sqrt(5),b = sqrt(5)]"
      ]
     },
     "execution_count": 12,
     "metadata": {},
     "output_type": "execute_result"
    }
   ],
   "source": [
    "solve(ev(%,a=2),b);"
   ]
  },
  {
   "cell_type": "code",
   "execution_count": 13,
   "metadata": {},
   "outputs": [
    {
     "data": {
      "text/latex": [
       "\\[\\tag{${\\it \\%o}_{13}$}\\mbox{ /home/honda/root/share/maxima/5.43.2/share/draw/draw.lisp }\\]"
      ],
      "text/plain": [
       "(%o13)     /home/honda/root/share/maxima/5.43.2/share/draw/draw.lisp"
      ],
      "text/x-maxima": [
       "\"/home/honda/root/share/maxima/5.43.2/share/draw/draw.lisp\""
      ]
     },
     "execution_count": 13,
     "metadata": {},
     "output_type": "execute_result"
    }
   ],
   "source": [
    "load(draw);"
   ]
  },
  {
   "cell_type": "code",
   "execution_count": 14,
   "metadata": {},
   "outputs": [
    {
     "data": {
      "text/latex": [
       "\\[\\tag{${\\it \\%o}_{14}$}\\left[ {\\it gr2d}\\left({\\it implicit} , {\\it explicit}\\right) \\right] \\]"
      ],
      "text/plain": [
       "(%o14)                    [gr2d(implicit, explicit)]"
      ],
      "text/x-maxima": [
       "[gr2d(implicit,explicit)]"
      ]
     },
     "execution_count": 14,
     "metadata": {},
     "output_type": "execute_result"
    }
   ],
   "source": [
    "draw2d(implicit(x^2+y^2=1,x,-2,2,y,-2,2),explicit(2*x+sqrt(5),x,-2,2));"
   ]
  },
  {
   "cell_type": "code",
   "execution_count": null,
   "metadata": {},
   "outputs": [],
   "source": []
  }
 ],
 "metadata": {
  "kernelspec": {
   "display_name": "Maxima",
   "language": "maxima",
   "name": "maxima"
  },
  "language_info": {
   "codemirror_mode": "maxima",
   "file_extension": ".mac",
   "mimetype": "text/x-maxima",
   "name": "maxima",
   "pygments_lexer": "maxima",
   "version": "5.43.2"
  }
 },
 "nbformat": 4,
 "nbformat_minor": 4
}
